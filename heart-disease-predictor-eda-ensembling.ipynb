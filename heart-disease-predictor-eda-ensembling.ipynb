{
 "cells": [
  {
   "cell_type": "markdown",
   "metadata": {
    "papermill": {
     "duration": 0.090804,
     "end_time": "2020-09-26T11:52:34.063917",
     "exception": false,
     "start_time": "2020-09-26T11:52:33.973113",
     "status": "completed"
    },
    "tags": []
   },
   "source": [
    "# Classification model to predict 10-year risk of future coronary heart disease (CHD)"
   ]
  },
  {
   "cell_type": "markdown",
   "metadata": {
    "papermill": {
     "duration": 0.079993,
     "end_time": "2020-09-26T11:52:34.722182",
     "exception": false,
     "start_time": "2020-09-26T11:52:34.642189",
     "status": "completed"
    },
    "tags": []
   },
   "source": [
    "# Importing Libraries"
   ]
  },
  {
   "cell_type": "code",
   "execution_count": null,
   "metadata": {},
   "outputs": [],
   "source": [
    "pip install mlxtend\n"
   ]
  },
  {
   "cell_type": "code",
   "execution_count": null,
   "metadata": {
    "_cell_guid": "b1076dfc-b9ad-4769-8c92-a6c4dae69d19",
    "_uuid": "8f2839f25d086af736a60e9eeb907d3b93b6e0e5",
    "execution": {
     "iopub.execute_input": "2020-09-26T11:52:34.896385Z",
     "iopub.status.busy": "2020-09-26T11:52:34.891152Z",
     "iopub.status.idle": "2020-09-26T11:52:36.673921Z",
     "shell.execute_reply": "2020-09-26T11:52:36.673096Z"
    },
    "papermill": {
     "duration": 1.871883,
     "end_time": "2020-09-26T11:52:36.674070",
     "exception": false,
     "start_time": "2020-09-26T11:52:34.802187",
     "status": "completed"
    },
    "tags": []
   },
   "outputs": [],
   "source": [
    "# Data Loading and Numerical Operations\n",
    "import pandas as pd\n",
    "import numpy as np\n",
    "# Data Visualizations\n",
    "import matplotlib.pyplot as plt\n",
    "%matplotlib inline\n",
    "import seaborn as sns\n",
    "# Data Resampling\n",
    "from sklearn.utils import resample\n",
    "# Data Feature Selection\n",
    "from sklearn.feature_selection import SelectKBest\n",
    "from sklearn.feature_selection import chi2\n",
    "# Data Splitting\n",
    "from sklearn.model_selection import train_test_split\n",
    "# Data Scaling\n",
    "from sklearn.preprocessing import MinMaxScaler\n",
    "# Data Modeling\n",
    "from sklearn.linear_model import LogisticRegression\n",
    "from sklearn.neighbors import KNeighborsClassifier\n",
    "from sklearn.ensemble import RandomForestClassifier\n",
    "from sklearn.tree import DecisionTreeClassifier\n",
    "from sklearn.ensemble import GradientBoostingClassifier\n",
    "from sklearn.neural_network import MLPClassifier\n",
    "from sklearn.metrics import confusion_matrix, accuracy_score, roc_curve, classification_report\n",
    "# Hyperparameter Tuning\n",
    "from sklearn.model_selection import RandomizedSearchCV\n",
    "from sklearn.model_selection import GridSearchCV\n",
    "# Ensembling\n",
    "from mlxtend.classifier import StackingCVClassifier"
   ]
  },
  {
   "cell_type": "markdown",
   "metadata": {
    "papermill": {
     "duration": 0.080239,
     "end_time": "2020-09-26T11:52:36.842491",
     "exception": false,
     "start_time": "2020-09-26T11:52:36.762252",
     "status": "completed"
    },
    "tags": []
   },
   "source": [
    "# Reading Dataset"
   ]
  },
  {
   "cell_type": "code",
   "execution_count": null,
   "metadata": {
    "_cell_guid": "79c7e3d0-c299-4dcb-8224-4455121ee9b0",
    "_uuid": "d629ff2d2480ee46fbb7e2d37f6b5fab8052498a",
    "execution": {
     "iopub.execute_input": "2020-09-26T11:52:37.047404Z",
     "iopub.status.busy": "2020-09-26T11:52:37.046290Z",
     "iopub.status.idle": "2020-09-26T11:52:37.119093Z",
     "shell.execute_reply": "2020-09-26T11:52:37.118189Z"
    },
    "papermill": {
     "duration": 0.187492,
     "end_time": "2020-09-26T11:52:37.119268",
     "exception": false,
     "start_time": "2020-09-26T11:52:36.931776",
     "status": "completed"
    },
    "tags": []
   },
   "outputs": [],
   "source": [
    "data = pd.read_csv(\"framingham.csv\") # Reading and converting the data into a pandas dataframe\n",
    "data.shape # Calculating the dimensions of the dataset"
   ]
  },
  {
   "cell_type": "code",
   "execution_count": null,
   "metadata": {
    "execution": {
     "iopub.execute_input": "2020-09-26T11:52:37.313505Z",
     "iopub.status.busy": "2020-09-26T11:52:37.312743Z",
     "iopub.status.idle": "2020-09-26T11:52:37.331745Z",
     "shell.execute_reply": "2020-09-26T11:52:37.331108Z"
    },
    "papermill": {
     "duration": 0.119816,
     "end_time": "2020-09-26T11:52:37.331876",
     "exception": false,
     "start_time": "2020-09-26T11:52:37.212060",
     "status": "completed"
    },
    "tags": []
   },
   "outputs": [],
   "source": [
    "data.head(10)"
   ]
  },
  {
   "cell_type": "code",
   "execution_count": null,
   "metadata": {
    "execution": {
     "iopub.execute_input": "2020-09-26T11:52:37.521840Z",
     "iopub.status.busy": "2020-09-26T11:52:37.503365Z",
     "iopub.status.idle": "2020-09-26T11:52:37.528919Z",
     "shell.execute_reply": "2020-09-26T11:52:37.527966Z"
    },
    "papermill": {
     "duration": 0.114892,
     "end_time": "2020-09-26T11:52:37.529101",
     "exception": false,
     "start_time": "2020-09-26T11:52:37.414209",
     "status": "completed"
    },
    "tags": []
   },
   "outputs": [],
   "source": [
    "data.info()"
   ]
  },
  {
   "cell_type": "markdown",
   "metadata": {
    "papermill": {
     "duration": 0.086081,
     "end_time": "2020-09-26T11:52:37.710799",
     "exception": false,
     "start_time": "2020-09-26T11:52:37.624718",
     "status": "completed"
    },
    "tags": []
   },
   "source": [
    "This shows an overview of the Columns, non-null count and the data types of the dataset"
   ]
  },
  {
   "cell_type": "markdown",
   "metadata": {
    "papermill": {
     "duration": 0.083482,
     "end_time": "2020-09-26T11:52:38.045261",
     "exception": false,
     "start_time": "2020-09-26T11:52:37.961779",
     "status": "completed"
    },
    "tags": []
   },
   "source": [
    "# Data Inspecting and Cleaning "
   ]
  },
  {
   "cell_type": "code",
   "execution_count": null,
   "metadata": {
    "execution": {
     "iopub.execute_input": "2020-09-26T11:52:38.220063Z",
     "iopub.status.busy": "2020-09-26T11:52:38.219245Z",
     "iopub.status.idle": "2020-09-26T11:52:38.226552Z",
     "shell.execute_reply": "2020-09-26T11:52:38.225989Z"
    },
    "papermill": {
     "duration": 0.098364,
     "end_time": "2020-09-26T11:52:38.226696",
     "exception": false,
     "start_time": "2020-09-26T11:52:38.128332",
     "status": "completed"
    },
    "tags": []
   },
   "outputs": [],
   "source": [
    "data.isnull().sum()"
   ]
  },
  {
   "cell_type": "code",
   "execution_count": null,
   "metadata": {
    "execution": {
     "iopub.execute_input": "2020-09-26T11:52:38.567371Z",
     "iopub.status.busy": "2020-09-26T11:52:38.566575Z",
     "iopub.status.idle": "2020-09-26T11:52:38.578878Z",
     "shell.execute_reply": "2020-09-26T11:52:38.578097Z"
    },
    "papermill": {
     "duration": 0.102702,
     "end_time": "2020-09-26T11:52:38.579010",
     "exception": false,
     "start_time": "2020-09-26T11:52:38.476308",
     "status": "completed"
    },
    "tags": []
   },
   "outputs": [],
   "source": [
    "data.duplicated().sum()"
   ]
  },
  {
   "cell_type": "code",
   "execution_count": null,
   "metadata": {
    "execution": {
     "iopub.execute_input": "2020-09-26T11:52:38.755076Z",
     "iopub.status.busy": "2020-09-26T11:52:38.754270Z",
     "iopub.status.idle": "2020-09-26T11:52:38.759770Z",
     "shell.execute_reply": "2020-09-26T11:52:38.758982Z"
    },
    "papermill": {
     "duration": 0.095232,
     "end_time": "2020-09-26T11:52:38.759938",
     "exception": false,
     "start_time": "2020-09-26T11:52:38.664706",
     "status": "completed"
    },
    "tags": []
   },
   "outputs": [],
   "source": [
    "print((data[\"glucose\"].mode())[0])"
   ]
  },
  {
   "cell_type": "code",
   "execution_count": null,
   "metadata": {
    "execution": {
     "iopub.execute_input": "2020-09-26T11:52:38.936024Z",
     "iopub.status.busy": "2020-09-26T11:52:38.935004Z",
     "iopub.status.idle": "2020-09-26T11:52:38.939805Z",
     "shell.execute_reply": "2020-09-26T11:52:38.939211Z"
    },
    "papermill": {
     "duration": 0.094898,
     "end_time": "2020-09-26T11:52:38.939934",
     "exception": false,
     "start_time": "2020-09-26T11:52:38.845036",
     "status": "completed"
    },
    "tags": []
   },
   "outputs": [],
   "source": [
    "data[\"glucose\"].fillna((data[\"glucose\"].mode())[0], inplace=True)"
   ]
  },
  {
   "cell_type": "code",
   "execution_count": null,
   "metadata": {
    "execution": {
     "iopub.execute_input": "2020-09-26T11:52:39.312372Z",
     "iopub.status.busy": "2020-09-26T11:52:39.311504Z",
     "iopub.status.idle": "2020-09-26T11:52:39.349900Z",
     "shell.execute_reply": "2020-09-26T11:52:39.349142Z"
    },
    "papermill": {
     "duration": 0.131901,
     "end_time": "2020-09-26T11:52:39.350048",
     "exception": false,
     "start_time": "2020-09-26T11:52:39.218147",
     "status": "completed"
    },
    "tags": []
   },
   "outputs": [],
   "source": [
    "data.dropna(inplace=True)\n",
    "data.isnull().sum()"
   ]
  },
  {
   "cell_type": "code",
   "execution_count": null,
   "metadata": {
    "execution": {
     "iopub.execute_input": "2020-09-26T11:52:39.709527Z",
     "iopub.status.busy": "2020-09-26T11:52:39.708764Z",
     "iopub.status.idle": "2020-09-26T11:52:40.273476Z",
     "shell.execute_reply": "2020-09-26T11:52:40.272749Z"
    },
    "papermill": {
     "duration": 0.656884,
     "end_time": "2020-09-26T11:52:40.273636",
     "exception": false,
     "start_time": "2020-09-26T11:52:39.616752",
     "status": "completed"
    },
    "tags": []
   },
   "outputs": [],
   "source": [
    "plt.figure(figsize=(20,10), facecolor='w')\n",
    "sns.boxplot(data=data)\n",
    "plt.show()"
   ]
  },
  {
   "cell_type": "code",
   "execution_count": null,
   "metadata": {
    "execution": {
     "iopub.execute_input": "2020-09-26T11:52:40.627433Z",
     "iopub.status.busy": "2020-09-26T11:52:40.626578Z",
     "iopub.status.idle": "2020-09-26T11:52:40.630531Z",
     "shell.execute_reply": "2020-09-26T11:52:40.631174Z"
    },
    "papermill": {
     "duration": 0.09649,
     "end_time": "2020-09-26T11:52:40.631328",
     "exception": false,
     "start_time": "2020-09-26T11:52:40.534838",
     "status": "completed"
    },
    "tags": []
   },
   "outputs": [],
   "source": [
    "data['totChol'].max()"
   ]
  },
  {
   "cell_type": "code",
   "execution_count": null,
   "metadata": {
    "execution": {
     "iopub.execute_input": "2020-09-26T11:52:40.991542Z",
     "iopub.status.busy": "2020-09-26T11:52:40.990538Z",
     "iopub.status.idle": "2020-09-26T11:52:40.995686Z",
     "shell.execute_reply": "2020-09-26T11:52:40.995070Z"
    },
    "papermill": {
     "duration": 0.100281,
     "end_time": "2020-09-26T11:52:40.995823",
     "exception": false,
     "start_time": "2020-09-26T11:52:40.895542",
     "status": "completed"
    },
    "tags": []
   },
   "outputs": [],
   "source": [
    "data['sysBP'].max()"
   ]
  },
  {
   "cell_type": "code",
   "execution_count": null,
   "metadata": {
    "execution": {
     "iopub.execute_input": "2020-09-26T11:52:41.184742Z",
     "iopub.status.busy": "2020-09-26T11:52:41.183743Z",
     "iopub.status.idle": "2020-09-26T11:52:41.190011Z",
     "shell.execute_reply": "2020-09-26T11:52:41.189287Z"
    },
    "papermill": {
     "duration": 0.105115,
     "end_time": "2020-09-26T11:52:41.190133",
     "exception": false,
     "start_time": "2020-09-26T11:52:41.085018",
     "status": "completed"
    },
    "tags": []
   },
   "outputs": [],
   "source": [
    "data = data[data['totChol']<600.0]\n",
    "data = data[data['sysBP']<295.0]\n",
    "data.shape"
   ]
  },
  {
   "cell_type": "markdown",
   "metadata": {
    "papermill": {
     "duration": 0.093759,
     "end_time": "2020-09-26T11:52:41.555959",
     "exception": false,
     "start_time": "2020-09-26T11:52:41.462200",
     "status": "completed"
    },
    "tags": []
   },
   "source": [
    "# Exploratory Data Analysis"
   ]
  },
  {
   "cell_type": "code",
   "execution_count": null,
   "metadata": {
    "execution": {
     "iopub.execute_input": "2020-09-26T11:52:41.745821Z",
     "iopub.status.busy": "2020-09-26T11:52:41.744311Z",
     "iopub.status.idle": "2020-09-26T11:52:41.899620Z",
     "shell.execute_reply": "2020-09-26T11:52:41.900188Z"
    },
    "papermill": {
     "duration": 0.253292,
     "end_time": "2020-09-26T11:52:41.900365",
     "exception": false,
     "start_time": "2020-09-26T11:52:41.647073",
     "status": "completed"
    },
    "tags": []
   },
   "outputs": [],
   "source": [
    "data.describe()"
   ]
  },
  {
   "cell_type": "code",
   "execution_count": null,
   "metadata": {
    "execution": {
     "iopub.execute_input": "2020-09-26T11:52:42.276348Z",
     "iopub.status.busy": "2020-09-26T11:52:42.271168Z",
     "iopub.status.idle": "2020-09-26T11:52:43.671761Z",
     "shell.execute_reply": "2020-09-26T11:52:43.672449Z"
    },
    "papermill": {
     "duration": 1.500288,
     "end_time": "2020-09-26T11:52:43.672648",
     "exception": false,
     "start_time": "2020-09-26T11:52:42.172360",
     "status": "completed"
    },
    "tags": []
   },
   "outputs": [],
   "source": [
    "#Checking relationship between variables\n",
    "cor=data.corr()\n",
    "plt.figure(figsize=(20,10), facecolor='w')\n",
    "sns.heatmap(cor,xticklabels=cor.columns,yticklabels=cor.columns,annot=True)\n",
    "plt.title(\"Correlation among all the Variables of the Dataset\", size=20)\n",
    "cor"
   ]
  },
  {
   "cell_type": "markdown",
   "metadata": {
    "papermill": {
     "duration": 0.096349,
     "end_time": "2020-09-26T11:52:44.105886",
     "exception": false,
     "start_time": "2020-09-26T11:52:44.009537",
     "status": "completed"
    },
    "tags": []
   },
   "source": [
    "### 1. Univariate Analysis"
   ]
  },
  {
   "cell_type": "code",
   "execution_count": null,
   "metadata": {
    "execution": {
     "iopub.execute_input": "2020-09-26T11:52:44.501313Z",
     "iopub.status.busy": "2020-09-26T11:52:44.500517Z",
     "iopub.status.idle": "2020-09-26T11:52:44.504379Z",
     "shell.execute_reply": "2020-09-26T11:52:44.503767Z"
    },
    "papermill": {
     "duration": 0.105166,
     "end_time": "2020-09-26T11:52:44.504503",
     "exception": false,
     "start_time": "2020-09-26T11:52:44.399337",
     "status": "completed"
    },
    "tags": []
   },
   "outputs": [],
   "source": [
    "categorical_features = ['male', 'education', 'currentSmoker', 'BPMeds', 'prevalentStroke', 'prevalentHyp', 'diabetes']"
   ]
  },
  {
   "cell_type": "code",
   "execution_count": null,
   "metadata": {
    "execution": {
     "iopub.execute_input": "2020-09-26T11:52:44.706321Z",
     "iopub.status.busy": "2020-09-26T11:52:44.704328Z",
     "iopub.status.idle": "2020-09-26T11:52:44.730985Z",
     "shell.execute_reply": "2020-09-26T11:52:44.731627Z"
    },
    "papermill": {
     "duration": 0.131675,
     "end_time": "2020-09-26T11:52:44.731804",
     "exception": false,
     "start_time": "2020-09-26T11:52:44.600129",
     "status": "completed"
    },
    "tags": []
   },
   "outputs": [],
   "source": [
    "for feature in categorical_features:\n",
    "    print(feature,':')\n",
    "    print(data[feature].value_counts())\n",
    "    print(\"-----------------\")"
   ]
  },
  {
   "cell_type": "code",
   "execution_count": null,
   "metadata": {
    "execution": {
     "iopub.execute_input": "2020-09-26T11:52:44.942652Z",
     "iopub.status.busy": "2020-09-26T11:52:44.941687Z",
     "iopub.status.idle": "2020-09-26T11:52:46.755883Z",
     "shell.execute_reply": "2020-09-26T11:52:46.756470Z"
    },
    "papermill": {
     "duration": 1.92799,
     "end_time": "2020-09-26T11:52:46.756639",
     "exception": false,
     "start_time": "2020-09-26T11:52:44.828649",
     "status": "completed"
    },
    "tags": []
   },
   "outputs": [],
   "source": [
    "num_plots = len(categorical_features)\n",
    "total_cols = 2\n",
    "total_rows = num_plots//total_cols + 1\n",
    "fig, axs = plt.subplots(nrows=total_rows, ncols=total_cols,\n",
    "                        figsize=(7*total_cols, 7*total_rows), facecolor='w', constrained_layout=True)\n",
    "for i, var in enumerate(categorical_features):\n",
    "    row = i//total_cols\n",
    "    pos = i % total_cols\n",
    "    plot = sns.countplot(x=var, data=data, ax=axs[row][pos])"
   ]
  },
  {
   "cell_type": "markdown",
   "metadata": {
    "papermill": {
     "duration": 0.099102,
     "end_time": "2020-09-26T11:52:47.152516",
     "exception": false,
     "start_time": "2020-09-26T11:52:47.053414",
     "status": "completed"
    },
    "tags": []
   },
   "source": [
    "#### Numerical Features"
   ]
  },
  {
   "cell_type": "code",
   "execution_count": null,
   "metadata": {
    "execution": {
     "iopub.execute_input": "2020-09-26T11:52:47.382959Z",
     "iopub.status.busy": "2020-09-26T11:52:47.381879Z",
     "iopub.status.idle": "2020-09-26T11:52:49.911586Z",
     "shell.execute_reply": "2020-09-26T11:52:49.910776Z"
    },
    "papermill": {
     "duration": 2.65495,
     "end_time": "2020-09-26T11:52:49.911773",
     "exception": false,
     "start_time": "2020-09-26T11:52:47.256823",
     "status": "completed"
    },
    "tags": []
   },
   "outputs": [],
   "source": [
    "numeric_features = ['cigsPerDay', 'totChol', 'sysBP', 'diaBP', 'BMI', 'heartRate', 'glucose']\n",
    "for feature in numeric_features:\n",
    "    plt.figure(figsize=(18, 10), facecolor='w')\n",
    "    sns.distplot(data[feature])\n",
    "    plt.title('{} Distribution'.format(feature), fontsize=20)\n",
    "    plt.show()"
   ]
  },
  {
   "cell_type": "code",
   "execution_count": null,
   "metadata": {
    "execution": {
     "iopub.execute_input": "2020-09-26T11:52:50.363255Z",
     "iopub.status.busy": "2020-09-26T11:52:50.362266Z",
     "iopub.status.idle": "2020-09-26T11:52:52.146051Z",
     "shell.execute_reply": "2020-09-26T11:52:52.146685Z"
    },
    "papermill": {
     "duration": 1.903875,
     "end_time": "2020-09-26T11:52:52.146846",
     "exception": false,
     "start_time": "2020-09-26T11:52:50.242971",
     "status": "completed"
    },
    "tags": []
   },
   "outputs": [],
   "source": [
    "num_plots = len(numeric_features)\n",
    "total_cols = 2\n",
    "total_rows = num_plots//total_cols + 1\n",
    "color = ['m', 'g', 'b', 'r', 'y', 'v', 'o']\n",
    "fig, axs = plt.subplots(nrows=total_rows, ncols=total_cols,\n",
    "                        figsize=(7*total_cols, 7*total_rows), facecolor='w', constrained_layout=True)\n",
    "for i, var in enumerate(numeric_features):\n",
    "    row = i//total_cols\n",
    "    pos = i % total_cols\n",
    "    plot = sns.violinplot(y=var, data=data, ax=axs[row][pos], linewidth=2)"
   ]
  },
  {
   "cell_type": "markdown",
   "metadata": {
    "papermill": {
     "duration": 0.119167,
     "end_time": "2020-09-26T11:52:52.624526",
     "exception": false,
     "start_time": "2020-09-26T11:52:52.505359",
     "status": "completed"
    },
    "tags": []
   },
   "source": [
    "#### Target Variable"
   ]
  },
  {
   "cell_type": "code",
   "execution_count": null,
   "metadata": {
    "execution": {
     "iopub.execute_input": "2020-09-26T11:52:52.875423Z",
     "iopub.status.busy": "2020-09-26T11:52:52.868796Z",
     "iopub.status.idle": "2020-09-26T11:52:53.115909Z",
     "shell.execute_reply": "2020-09-26T11:52:53.116586Z"
    },
    "papermill": {
     "duration": 0.371036,
     "end_time": "2020-09-26T11:52:53.116782",
     "exception": false,
     "start_time": "2020-09-26T11:52:52.745746",
     "status": "completed"
    },
    "tags": []
   },
   "outputs": [],
   "source": [
    "#Distribution of outcome variable, Heart Disease\n",
    "plt.figure(figsize=(12, 10), facecolor='w')\n",
    "plt.subplots_adjust(right=1.5)\n",
    "plt.subplot(121)\n",
    "sns.countplot(x=\"TenYearCHD\", data=data)\n",
    "plt.title(\"Count distribution of TenYearCHD\", size=20)\n",
    "plt.subplot(122)\n",
    "labels=[0,1]\n",
    "plt.pie(data[\"TenYearCHD\"].value_counts(),autopct=\"%1.1f%%\",labels=labels,colors=[\"lime\",\"red\"])\n",
    "plt.show()"
   ]
  },
  {
   "cell_type": "markdown",
   "metadata": {
    "papermill": {
     "duration": 0.114573,
     "end_time": "2020-09-26T11:52:53.582109",
     "exception": false,
     "start_time": "2020-09-26T11:52:53.467536",
     "status": "completed"
    },
    "tags": []
   },
   "source": [
    "### 2. Bivariate Analysis"
   ]
  },
  {
   "cell_type": "markdown",
   "metadata": {
    "papermill": {
     "duration": 0.118713,
     "end_time": "2020-09-26T11:52:53.816669",
     "exception": false,
     "start_time": "2020-09-26T11:52:53.697956",
     "status": "completed"
    },
    "tags": []
   },
   "source": [
    "#### Relationship between education and cigsPerDay"
   ]
  },
  {
   "cell_type": "code",
   "execution_count": null,
   "metadata": {
    "execution": {
     "iopub.execute_input": "2020-09-26T11:52:54.065025Z",
     "iopub.status.busy": "2020-09-26T11:52:54.064116Z",
     "iopub.status.idle": "2020-09-26T11:52:54.067328Z",
     "shell.execute_reply": "2020-09-26T11:52:54.067883Z"
    },
    "papermill": {
     "duration": 0.136312,
     "end_time": "2020-09-26T11:52:54.068066",
     "exception": false,
     "start_time": "2020-09-26T11:52:53.931754",
     "status": "completed"
    },
    "tags": []
   },
   "outputs": [],
   "source": [
    "#Grouping education and cigsPerDay\n",
    "\n",
    "graph_1 = data.groupby(\"education\", as_index=False).cigsPerDay.mean()"
   ]
  },
  {
   "cell_type": "code",
   "execution_count": null,
   "metadata": {
    "execution": {
     "iopub.execute_input": "2020-09-26T11:52:54.323163Z",
     "iopub.status.busy": "2020-09-26T11:52:54.322286Z",
     "iopub.status.idle": "2020-09-26T11:52:54.722005Z",
     "shell.execute_reply": "2020-09-26T11:52:54.721238Z"
    },
    "papermill": {
     "duration": 0.537157,
     "end_time": "2020-09-26T11:52:54.722145",
     "exception": false,
     "start_time": "2020-09-26T11:52:54.184988",
     "status": "completed"
    },
    "tags": []
   },
   "outputs": [],
   "source": [
    "plt.figure(figsize=(12,8), facecolor='w')\n",
    "sns.regplot(x=graph_1[\"education\"], y=graph_1[\"cigsPerDay\"])\n",
    "plt.title(\"Graph showing cigsPerDay in every level of education.\", size=20)\n",
    "plt.xlabel(\"education\", size=20)\n",
    "plt.ylabel(\"cigsPerDay\", size=20)\n",
    "plt.xticks(size=12)\n",
    "plt.yticks(size=12)"
   ]
  },
  {
   "cell_type": "markdown",
   "metadata": {
    "papermill": {
     "duration": 0.121156,
     "end_time": "2020-09-26T11:52:55.202206",
     "exception": false,
     "start_time": "2020-09-26T11:52:55.081050",
     "status": "completed"
    },
    "tags": []
   },
   "source": [
    "#### Which gender has more risk of coronary heart disease CHD"
   ]
  },
  {
   "cell_type": "code",
   "execution_count": null,
   "metadata": {
    "execution": {
     "iopub.execute_input": "2020-09-26T11:52:55.455440Z",
     "iopub.status.busy": "2020-09-26T11:52:55.453353Z",
     "iopub.status.idle": "2020-09-26T11:52:55.458258Z",
     "shell.execute_reply": "2020-09-26T11:52:55.458860Z"
    },
    "papermill": {
     "duration": 0.134182,
     "end_time": "2020-09-26T11:52:55.459023",
     "exception": false,
     "start_time": "2020-09-26T11:52:55.324841",
     "status": "completed"
    },
    "tags": []
   },
   "outputs": [],
   "source": [
    "#checking for which gender has more risk of coronary heart disease CHD\n",
    "\n",
    "graph_2 = data.groupby(\"male\", as_index=False).TenYearCHD.sum()"
   ]
  },
  {
   "cell_type": "code",
   "execution_count": null,
   "metadata": {
    "execution": {
     "iopub.execute_input": "2020-09-26T11:52:55.717137Z",
     "iopub.status.busy": "2020-09-26T11:52:55.716280Z",
     "iopub.status.idle": "2020-09-26T11:52:55.889490Z",
     "shell.execute_reply": "2020-09-26T11:52:55.890055Z"
    },
    "papermill": {
     "duration": 0.311434,
     "end_time": "2020-09-26T11:52:55.890223",
     "exception": false,
     "start_time": "2020-09-26T11:52:55.578789",
     "status": "completed"
    },
    "tags": []
   },
   "outputs": [],
   "source": [
    "#Ploting the above values\n",
    "\n",
    "plt.figure(figsize=(12,8), facecolor='w')\n",
    "sns.barplot(x=graph_2[\"male\"], y=graph_2[\"TenYearCHD\"])\n",
    "plt.title(\"Graph showing which gender has more risk of coronary heart disease CHD\", size=20)\n",
    "plt.xlabel(\"Gender\\n0 is female and 1 is male\",size=20)\n",
    "plt.ylabel(\"TenYearCHD cases\", size=20)\n",
    "plt.xticks(size=12)\n",
    "plt.yticks(size=12)"
   ]
  },
  {
   "cell_type": "markdown",
   "metadata": {
    "papermill": {
     "duration": 0.126961,
     "end_time": "2020-09-26T11:52:56.147661",
     "exception": false,
     "start_time": "2020-09-26T11:52:56.020700",
     "status": "completed"
    },
    "tags": []
   },
   "source": [
    "According to this dataset, `males` have shown a slighly higher risk of coronary heart disease `TenYearCHD`."
   ]
  },
  {
   "cell_type": "markdown",
   "metadata": {
    "papermill": {
     "duration": 0.122959,
     "end_time": "2020-09-26T11:52:56.391761",
     "exception": false,
     "start_time": "2020-09-26T11:52:56.268802",
     "status": "completed"
    },
    "tags": []
   },
   "source": [
    "#### Which age group has more smokers."
   ]
  },
  {
   "cell_type": "code",
   "execution_count": null,
   "metadata": {
    "execution": {
     "iopub.execute_input": "2020-09-26T11:52:56.651409Z",
     "iopub.status.busy": "2020-09-26T11:52:56.648888Z",
     "iopub.status.idle": "2020-09-26T11:52:57.587180Z",
     "shell.execute_reply": "2020-09-26T11:52:57.586413Z"
    },
    "papermill": {
     "duration": 1.07079,
     "end_time": "2020-09-26T11:52:57.587304",
     "exception": false,
     "start_time": "2020-09-26T11:52:56.516514",
     "status": "completed"
    },
    "tags": []
   },
   "outputs": [],
   "source": [
    "#Distribution of current smokers with respect to age\n",
    "plt.figure(figsize=(30,15), facecolor='w')\n",
    "sns.countplot(x=\"age\",data=data,hue=\"currentSmoker\")\n",
    "plt.title(\"Graph showing which age group has more smokers.\", size=30)\n",
    "plt.xlabel(\"age\", size=20)\n",
    "plt.ylabel(\"age Count\", size=20)\n",
    "plt.xticks(size=12)\n",
    "plt.yticks(size=12)"
   ]
  },
  {
   "cell_type": "markdown",
   "metadata": {
    "papermill": {
     "duration": 0.122852,
     "end_time": "2020-09-26T11:52:58.081155",
     "exception": false,
     "start_time": "2020-09-26T11:52:57.958303",
     "status": "completed"
    },
    "tags": []
   },
   "source": [
    "#### Relation between cigsPerDay and risk of coronary heart disease."
   ]
  },
  {
   "cell_type": "code",
   "execution_count": null,
   "metadata": {
    "execution": {
     "iopub.execute_input": "2020-09-26T11:52:58.338999Z",
     "iopub.status.busy": "2020-09-26T11:52:58.337871Z",
     "iopub.status.idle": "2020-09-26T11:52:59.043866Z",
     "shell.execute_reply": "2020-09-26T11:52:59.043066Z"
    },
    "papermill": {
     "duration": 0.840376,
     "end_time": "2020-09-26T11:52:59.044004",
     "exception": false,
     "start_time": "2020-09-26T11:52:58.203628",
     "status": "completed"
    },
    "tags": []
   },
   "outputs": [],
   "source": [
    "plt.figure(figsize=(30,12), facecolor='w')\n",
    "sns.countplot(x=\"TenYearCHD\",data=data,hue=\"cigsPerDay\")\n",
    "plt.legend(title='cigsPerDay', fontsize='large')\n",
    "plt.title(\"Graph showing the relation between cigsPerDay and risk of coronary heart disease.\", size=30)\n",
    "plt.xlabel(\"Risk of TenYearCHD\", size=20)\n",
    "plt.ylabel(\"Count of TenYearCHD\", size=20)\n",
    "plt.xticks(size=12)\n",
    "plt.yticks(size=12)\n",
    "plt.show()"
   ]
  },
  {
   "cell_type": "markdown",
   "metadata": {
    "papermill": {
     "duration": 0.123605,
     "end_time": "2020-09-26T11:52:59.546834",
     "exception": false,
     "start_time": "2020-09-26T11:52:59.423229",
     "status": "completed"
    },
    "tags": []
   },
   "source": [
    "#### Relation between sysBP and risk of CHD."
   ]
  },
  {
   "cell_type": "code",
   "execution_count": null,
   "metadata": {
    "execution": {
     "iopub.execute_input": "2020-09-26T11:52:59.816008Z",
     "iopub.status.busy": "2020-09-26T11:52:59.815127Z",
     "iopub.status.idle": "2020-09-26T11:52:59.993277Z",
     "shell.execute_reply": "2020-09-26T11:52:59.992605Z"
    },
    "papermill": {
     "duration": 0.317467,
     "end_time": "2020-09-26T11:52:59.993422",
     "exception": false,
     "start_time": "2020-09-26T11:52:59.675955",
     "status": "completed"
    },
    "tags": []
   },
   "outputs": [],
   "source": [
    "# Grouping up the data and ploting it\n",
    "\n",
    "graph_3 = data.groupby(\"TenYearCHD\", as_index=False).sysBP.mean()\n",
    "\n",
    "plt.figure(figsize=(12,8), facecolor='w')\n",
    "sns.barplot(x=graph_3[\"TenYearCHD\"], y=graph_3[\"sysBP\"])\n",
    "plt.title(\"Graph showing the relation between sysBP and risk of CHD\", size=20)\n",
    "plt.xlabel(\"Risk of CHD\", size=20)\n",
    "plt.ylabel(\"sysBP\", size=20)\n",
    "plt.xticks(size=12)\n",
    "plt.yticks(size=12)"
   ]
  },
  {
   "cell_type": "code",
   "execution_count": null,
   "metadata": {
    "execution": {
     "iopub.execute_input": "2020-09-26T11:53:00.314579Z",
     "iopub.status.busy": "2020-09-26T11:53:00.305855Z",
     "iopub.status.idle": "2020-09-26T11:53:00.691003Z",
     "shell.execute_reply": "2020-09-26T11:53:00.690163Z"
    },
    "papermill": {
     "duration": 0.559012,
     "end_time": "2020-09-26T11:53:00.691147",
     "exception": false,
     "start_time": "2020-09-26T11:53:00.132135",
     "status": "completed"
    },
    "tags": []
   },
   "outputs": [],
   "source": [
    "plt.figure(figsize=(12,8), facecolor='w')\n",
    "sns.regplot(x=graph_3[\"TenYearCHD\"], y=graph_3[\"sysBP\"])\n",
    "plt.title(\"Distribution of sysBP in relation to the risk of CHD\", size=20)\n",
    "plt.xticks(size=12)\n",
    "plt.yticks(size=12)"
   ]
  },
  {
   "cell_type": "markdown",
   "metadata": {
    "papermill": {
     "duration": 0.138673,
     "end_time": "2020-09-26T11:53:01.247133",
     "exception": false,
     "start_time": "2020-09-26T11:53:01.108460",
     "status": "completed"
    },
    "tags": []
   },
   "source": [
    "#### Relation between diaBP and risk of CHD"
   ]
  },
  {
   "cell_type": "code",
   "execution_count": null,
   "metadata": {
    "execution": {
     "iopub.execute_input": "2020-09-26T11:53:01.545725Z",
     "iopub.status.busy": "2020-09-26T11:53:01.534955Z",
     "iopub.status.idle": "2020-09-26T11:53:01.724724Z",
     "shell.execute_reply": "2020-09-26T11:53:01.725641Z"
    },
    "papermill": {
     "duration": 0.343171,
     "end_time": "2020-09-26T11:53:01.725870",
     "exception": false,
     "start_time": "2020-09-26T11:53:01.382699",
     "status": "completed"
    },
    "tags": []
   },
   "outputs": [],
   "source": [
    "# Grouping up the data and ploting it\n",
    "\n",
    "graph_4 = data.groupby(\"TenYearCHD\", as_index=False).diaBP.mean()\n",
    "\n",
    "plt.figure(figsize=(12,8), facecolor='w')\n",
    "sns.barplot(x=graph_4[\"TenYearCHD\"], y=graph_4[\"diaBP\"])\n",
    "plt.title(\"Graph showing the relation between diaBP and risk of CHD\", size=20)\n",
    "plt.xlabel(\"Risk of CHD\", size=20)\n",
    "plt.ylabel(\"diaBP\", size=20)\n",
    "plt.xticks(size=12)\n",
    "plt.yticks(size=12)"
   ]
  },
  {
   "cell_type": "code",
   "execution_count": null,
   "metadata": {
    "execution": {
     "iopub.execute_input": "2020-09-26T11:53:02.033337Z",
     "iopub.status.busy": "2020-09-26T11:53:02.032291Z",
     "iopub.status.idle": "2020-09-26T11:53:02.363801Z",
     "shell.execute_reply": "2020-09-26T11:53:02.362585Z"
    },
    "papermill": {
     "duration": 0.486898,
     "end_time": "2020-09-26T11:53:02.363967",
     "exception": false,
     "start_time": "2020-09-26T11:53:01.877069",
     "status": "completed"
    },
    "tags": []
   },
   "outputs": [],
   "source": [
    "plt.figure(figsize=(12,8), facecolor='w')\n",
    "sns.regplot(x=graph_4[\"TenYearCHD\"], y=graph_4[\"diaBP\"])\n",
    "plt.title(\"Distribution of diaBP in relation to the risk of CHD\", size=20)\n",
    "plt.xticks(size=12)\n",
    "plt.yticks(size=12)"
   ]
  },
  {
   "cell_type": "markdown",
   "metadata": {
    "papermill": {
     "duration": 0.139591,
     "end_time": "2020-09-26T11:53:02.931939",
     "exception": false,
     "start_time": "2020-09-26T11:53:02.792348",
     "status": "completed"
    },
    "tags": []
   },
   "source": [
    "#### Relation between age and totChol"
   ]
  },
  {
   "cell_type": "code",
   "execution_count": null,
   "metadata": {
    "execution": {
     "iopub.execute_input": "2020-09-26T11:53:03.223654Z",
     "iopub.status.busy": "2020-09-26T11:53:03.222360Z",
     "iopub.status.idle": "2020-09-26T11:53:04.383329Z",
     "shell.execute_reply": "2020-09-26T11:53:04.382389Z"
    },
    "papermill": {
     "duration": 1.309132,
     "end_time": "2020-09-26T11:53:04.383477",
     "exception": false,
     "start_time": "2020-09-26T11:53:03.074345",
     "status": "completed"
    },
    "tags": []
   },
   "outputs": [],
   "source": [
    "plt.figure(figsize=(20,10), facecolor='w')\n",
    "sns.boxplot(x=\"age\",y=\"totChol\",data=data)\n",
    "plt.title(\"Distribution of age with respect to totChol\", size=20)\n",
    "plt.show()"
   ]
  },
  {
   "cell_type": "markdown",
   "metadata": {
    "papermill": {
     "duration": 0.14168,
     "end_time": "2020-09-26T11:53:04.979569",
     "exception": false,
     "start_time": "2020-09-26T11:53:04.837889",
     "status": "completed"
    },
    "tags": []
   },
   "source": [
    "### 3. Multivariate Analysis"
   ]
  },
  {
   "cell_type": "markdown",
   "metadata": {
    "papermill": {
     "duration": 0.142859,
     "end_time": "2020-09-26T11:53:05.266029",
     "exception": false,
     "start_time": "2020-09-26T11:53:05.123170",
     "status": "completed"
    },
    "tags": []
   },
   "source": [
    "#### Relationship between age and cigsPerDay, totChol, glucose."
   ]
  },
  {
   "cell_type": "code",
   "execution_count": null,
   "metadata": {
    "execution": {
     "iopub.execute_input": "2020-09-26T11:53:05.567481Z",
     "iopub.status.busy": "2020-09-26T11:53:05.565864Z",
     "iopub.status.idle": "2020-09-26T11:53:05.940207Z",
     "shell.execute_reply": "2020-09-26T11:53:05.939489Z"
    },
    "papermill": {
     "duration": 0.532558,
     "end_time": "2020-09-26T11:53:05.940358",
     "exception": false,
     "start_time": "2020-09-26T11:53:05.407800",
     "status": "completed"
    },
    "tags": []
   },
   "outputs": [],
   "source": [
    "#Plotting a linegraph to check the relationship between age and cigsPerDay, totChol, glucose.\n",
    "\n",
    "graph_5 = data.groupby(\"age\").cigsPerDay.mean()\n",
    "graph_6 = data.groupby(\"age\").totChol.mean()\n",
    "graph_7 = data.groupby(\"age\").glucose.mean()\n",
    "\n",
    "plt.figure(figsize=(16,10), facecolor='w')\n",
    "sns.lineplot(data=graph_5, label=\"cigsPerDay\")\n",
    "sns.lineplot(data=graph_6, label=\"totChol\")\n",
    "sns.lineplot(data=graph_7, label=\"glucose\")\n",
    "plt.title(\"Graph showing totChol and cigsPerDay in every age group.\", size=20)\n",
    "plt.xlabel(\"age\", size=20)\n",
    "plt.ylabel(\"count\", size=20)\n",
    "plt.xticks(size=12)\n",
    "plt.yticks(size=12)"
   ]
  },
  {
   "cell_type": "markdown",
   "metadata": {
    "papermill": {
     "duration": 0.14309,
     "end_time": "2020-09-26T11:53:06.535135",
     "exception": false,
     "start_time": "2020-09-26T11:53:06.392045",
     "status": "completed"
    },
    "tags": []
   },
   "source": [
    "#### Distribution of sysBP vs diaBP with respect to currentSmoker and male attributes"
   ]
  },
  {
   "cell_type": "code",
   "execution_count": null,
   "metadata": {
    "execution": {
     "iopub.execute_input": "2020-09-26T11:53:06.831237Z",
     "iopub.status.busy": "2020-09-26T11:53:06.830132Z",
     "iopub.status.idle": "2020-09-26T11:53:10.550421Z",
     "shell.execute_reply": "2020-09-26T11:53:10.551147Z"
    },
    "papermill": {
     "duration": 3.873277,
     "end_time": "2020-09-26T11:53:10.551326",
     "exception": false,
     "start_time": "2020-09-26T11:53:06.678049",
     "status": "completed"
    },
    "tags": []
   },
   "outputs": [],
   "source": [
    "#sysBP vs diaBP with respect to currentSmoker and male attributes\n",
    "#plt.figure(figsize=(18, 9), facecolor='w')\n",
    "sns.lmplot('sysBP', 'diaBP', \n",
    "           data=data,\n",
    "           hue=\"TenYearCHD\",\n",
    "           col=\"male\",row=\"currentSmoker\")\n",
    "plt.show()"
   ]
  },
  {
   "cell_type": "markdown",
   "metadata": {
    "papermill": {
     "duration": 0.144691,
     "end_time": "2020-09-26T11:53:11.128939",
     "exception": false,
     "start_time": "2020-09-26T11:53:10.984248",
     "status": "completed"
    },
    "tags": []
   },
   "source": [
    "# Resampling imbalanced dataset by oversampling positive cases"
   ]
  },
  {
   "cell_type": "code",
   "execution_count": null,
   "metadata": {
    "execution": {
     "iopub.execute_input": "2020-09-26T11:53:11.423363Z",
     "iopub.status.busy": "2020-09-26T11:53:11.422203Z",
     "iopub.status.idle": "2020-09-26T11:53:11.426070Z",
     "shell.execute_reply": "2020-09-26T11:53:11.425242Z"
    },
    "papermill": {
     "duration": 0.155245,
     "end_time": "2020-09-26T11:53:11.426214",
     "exception": false,
     "start_time": "2020-09-26T11:53:11.270969",
     "status": "completed"
    },
    "tags": []
   },
   "outputs": [],
   "source": [
    "target1=data[data['TenYearCHD']==1]\n",
    "target0=data[data['TenYearCHD']==0]"
   ]
  },
  {
   "cell_type": "code",
   "execution_count": null,
   "metadata": {
    "execution": {
     "iopub.execute_input": "2020-09-26T11:53:11.728079Z",
     "iopub.status.busy": "2020-09-26T11:53:11.727051Z",
     "iopub.status.idle": "2020-09-26T11:53:11.731305Z",
     "shell.execute_reply": "2020-09-26T11:53:11.730699Z"
    },
    "papermill": {
     "duration": 0.155904,
     "end_time": "2020-09-26T11:53:11.731428",
     "exception": false,
     "start_time": "2020-09-26T11:53:11.575524",
     "status": "completed"
    },
    "tags": []
   },
   "outputs": [],
   "source": [
    "target1=resample(target1,replace=True,n_samples=len(target0),random_state=40)"
   ]
  },
  {
   "cell_type": "code",
   "execution_count": null,
   "metadata": {
    "execution": {
     "iopub.execute_input": "2020-09-26T11:53:12.027497Z",
     "iopub.status.busy": "2020-09-26T11:53:12.026710Z",
     "iopub.status.idle": "2020-09-26T11:53:12.031849Z",
     "shell.execute_reply": "2020-09-26T11:53:12.031176Z"
    },
    "papermill": {
     "duration": 0.15827,
     "end_time": "2020-09-26T11:53:12.031991",
     "exception": false,
     "start_time": "2020-09-26T11:53:11.873721",
     "status": "completed"
    },
    "tags": []
   },
   "outputs": [],
   "source": [
    "target=pd.concat([target0,target1])"
   ]
  },
  {
   "cell_type": "code",
   "execution_count": null,
   "metadata": {
    "execution": {
     "iopub.execute_input": "2020-09-26T11:53:12.325041Z",
     "iopub.status.busy": "2020-09-26T11:53:12.324174Z",
     "iopub.status.idle": "2020-09-26T11:53:12.328839Z",
     "shell.execute_reply": "2020-09-26T11:53:12.328244Z"
    },
    "papermill": {
     "duration": 0.154567,
     "end_time": "2020-09-26T11:53:12.328972",
     "exception": false,
     "start_time": "2020-09-26T11:53:12.174405",
     "status": "completed"
    },
    "tags": []
   },
   "outputs": [],
   "source": [
    "target['TenYearCHD'].value_counts()"
   ]
  },
  {
   "cell_type": "code",
   "execution_count": null,
   "metadata": {
    "execution": {
     "iopub.execute_input": "2020-09-26T11:53:12.617842Z",
     "iopub.status.busy": "2020-09-26T11:53:12.617026Z",
     "iopub.status.idle": "2020-09-26T11:53:12.622204Z",
     "shell.execute_reply": "2020-09-26T11:53:12.621429Z"
    },
    "papermill": {
     "duration": 0.15203,
     "end_time": "2020-09-26T11:53:12.622338",
     "exception": false,
     "start_time": "2020-09-26T11:53:12.470308",
     "status": "completed"
    },
    "tags": []
   },
   "outputs": [],
   "source": [
    "data=target\n",
    "np.shape(data)"
   ]
  },
  {
   "cell_type": "code",
   "execution_count": null,
   "metadata": {
    "execution": {
     "iopub.execute_input": "2020-09-26T11:53:12.926256Z",
     "iopub.status.busy": "2020-09-26T11:53:12.925106Z",
     "iopub.status.idle": "2020-09-26T11:53:13.170650Z",
     "shell.execute_reply": "2020-09-26T11:53:13.170020Z"
    },
    "papermill": {
     "duration": 0.404111,
     "end_time": "2020-09-26T11:53:13.170778",
     "exception": false,
     "start_time": "2020-09-26T11:53:12.766667",
     "status": "completed"
    },
    "tags": []
   },
   "outputs": [],
   "source": [
    "#Distribution of heart disease cases in the balanced dataset, the outcome variable\n",
    "plt.figure(figsize=(12, 10), facecolor='w')\n",
    "plt.subplots_adjust(right=1.5)\n",
    "plt.subplot(121)\n",
    "sns.countplot(x=\"TenYearCHD\", data=data)\n",
    "plt.title(\"Count of TenYearCHD column\", size=20)\n",
    "plt.subplot(122)\n",
    "labels=[0,1]\n",
    "plt.pie(data[\"TenYearCHD\"].value_counts(),autopct=\"%1.1f%%\",labels=labels,colors=[\"red\",\"lime\"])\n",
    "plt.show()"
   ]
  },
  {
   "cell_type": "markdown",
   "metadata": {
    "papermill": {
     "duration": 0.145385,
     "end_time": "2020-09-26T11:53:13.754478",
     "exception": false,
     "start_time": "2020-09-26T11:53:13.609093",
     "status": "completed"
    },
    "tags": []
   },
   "source": [
    "# Feature Selection\n"
   ]
  },
  {
   "cell_type": "code",
   "execution_count": null,
   "metadata": {
    "execution": {
     "iopub.execute_input": "2020-09-26T11:53:14.053393Z",
     "iopub.status.busy": "2020-09-26T11:53:14.052370Z",
     "iopub.status.idle": "2020-09-26T11:53:14.058414Z",
     "shell.execute_reply": "2020-09-26T11:53:14.057672Z"
    },
    "papermill": {
     "duration": 0.160239,
     "end_time": "2020-09-26T11:53:14.058542",
     "exception": false,
     "start_time": "2020-09-26T11:53:13.898303",
     "status": "completed"
    },
    "tags": []
   },
   "outputs": [],
   "source": [
    "#To idenfify the features that have larger contribution towards the outcome variable, TenYearCHD\n",
    "X=data.iloc[:,0:15]\n",
    "y=data.iloc[:,-1]\n",
    "print(\"X - \", X.shape, \"\\ny - \", y.shape)"
   ]
  },
  {
   "cell_type": "code",
   "execution_count": null,
   "metadata": {
    "execution": {
     "iopub.execute_input": "2020-09-26T11:53:14.360998Z",
     "iopub.status.busy": "2020-09-26T11:53:14.360090Z",
     "iopub.status.idle": "2020-09-26T11:53:14.363186Z",
     "shell.execute_reply": "2020-09-26T11:53:14.362426Z"
    },
    "papermill": {
     "duration": 0.157955,
     "end_time": "2020-09-26T11:53:14.363319",
     "exception": false,
     "start_time": "2020-09-26T11:53:14.205364",
     "status": "completed"
    },
    "tags": []
   },
   "outputs": [],
   "source": [
    "#Apply SelectKBest and extract top 10 features\n",
    "best=SelectKBest(score_func=chi2, k=10)"
   ]
  },
  {
   "cell_type": "code",
   "execution_count": null,
   "metadata": {
    "execution": {
     "iopub.execute_input": "2020-09-26T11:53:14.663232Z",
     "iopub.status.busy": "2020-09-26T11:53:14.661981Z",
     "iopub.status.idle": "2020-09-26T11:53:14.672256Z",
     "shell.execute_reply": "2020-09-26T11:53:14.671364Z"
    },
    "papermill": {
     "duration": 0.1644,
     "end_time": "2020-09-26T11:53:14.672398",
     "exception": false,
     "start_time": "2020-09-26T11:53:14.507998",
     "status": "completed"
    },
    "tags": []
   },
   "outputs": [],
   "source": [
    "fit=best.fit(X,y)"
   ]
  },
  {
   "cell_type": "code",
   "execution_count": null,
   "metadata": {
    "execution": {
     "iopub.execute_input": "2020-09-26T11:53:14.977022Z",
     "iopub.status.busy": "2020-09-26T11:53:14.975953Z",
     "iopub.status.idle": "2020-09-26T11:53:14.979921Z",
     "shell.execute_reply": "2020-09-26T11:53:14.979149Z"
    },
    "papermill": {
     "duration": 0.156313,
     "end_time": "2020-09-26T11:53:14.980048",
     "exception": false,
     "start_time": "2020-09-26T11:53:14.823735",
     "status": "completed"
    },
    "tags": []
   },
   "outputs": [],
   "source": [
    "data_scores=pd.DataFrame(fit.scores_)\n",
    "data_columns=pd.DataFrame(X.columns)"
   ]
  },
  {
   "cell_type": "code",
   "execution_count": null,
   "metadata": {
    "execution": {
     "iopub.execute_input": "2020-09-26T11:53:15.286815Z",
     "iopub.status.busy": "2020-09-26T11:53:15.286003Z",
     "iopub.status.idle": "2020-09-26T11:53:15.295865Z",
     "shell.execute_reply": "2020-09-26T11:53:15.295158Z"
    },
    "papermill": {
     "duration": 0.167397,
     "end_time": "2020-09-26T11:53:15.296031",
     "exception": false,
     "start_time": "2020-09-26T11:53:15.128634",
     "status": "completed"
    },
    "tags": []
   },
   "outputs": [],
   "source": [
    "#Join the two dataframes\n",
    "scores=pd.concat([data_columns,data_scores],axis=1)\n",
    "scores.columns=['Feature','Score']\n",
    "print(scores.nlargest(11,'Score'))"
   ]
  },
  {
   "cell_type": "code",
   "execution_count": null,
   "metadata": {
    "execution": {
     "iopub.execute_input": "2020-09-26T11:53:15.625029Z",
     "iopub.status.busy": "2020-09-26T11:53:15.624227Z",
     "iopub.status.idle": "2020-09-26T11:53:15.918017Z",
     "shell.execute_reply": "2020-09-26T11:53:15.918787Z"
    },
    "papermill": {
     "duration": 0.473045,
     "end_time": "2020-09-26T11:53:15.918957",
     "exception": false,
     "start_time": "2020-09-26T11:53:15.445912",
     "status": "completed"
    },
    "tags": []
   },
   "outputs": [],
   "source": [
    "#To visualize feature selection\n",
    "scores=scores.sort_values(by=\"Score\", ascending=False)\n",
    "plt.figure(figsize=(20,7), facecolor='w')\n",
    "sns.barplot(x='Feature',y='Score',data=scores,palette='BuGn_r')\n",
    "plt.title(\"Plot showing the best features in descending order\", size=20)\n",
    "plt.show()"
   ]
  },
  {
   "cell_type": "code",
   "execution_count": null,
   "metadata": {
    "execution": {
     "iopub.execute_input": "2020-09-26T11:53:16.565452Z",
     "iopub.status.busy": "2020-09-26T11:53:16.564453Z",
     "iopub.status.idle": "2020-09-26T11:53:16.569419Z",
     "shell.execute_reply": "2020-09-26T11:53:16.568644Z"
    },
    "papermill": {
     "duration": 0.163387,
     "end_time": "2020-09-26T11:53:16.569555",
     "exception": false,
     "start_time": "2020-09-26T11:53:16.406168",
     "status": "completed"
    },
    "tags": []
   },
   "outputs": [],
   "source": [
    "#Select 10 features\n",
    "features=scores[\"Feature\"].tolist()[:10]\n",
    "features"
   ]
  },
  {
   "cell_type": "code",
   "execution_count": null,
   "metadata": {
    "execution": {
     "iopub.execute_input": "2020-09-26T11:53:17.184132Z",
     "iopub.status.busy": "2020-09-26T11:53:17.182927Z",
     "iopub.status.idle": "2020-09-26T11:53:17.204363Z",
     "shell.execute_reply": "2020-09-26T11:53:17.203686Z"
    },
    "papermill": {
     "duration": 0.180412,
     "end_time": "2020-09-26T11:53:17.204491",
     "exception": false,
     "start_time": "2020-09-26T11:53:17.024079",
     "status": "completed"
    },
    "tags": []
   },
   "outputs": [],
   "source": [
    "data=data[['sysBP','glucose','age','cigsPerDay','totChol','diaBP','prevalentHyp','male','BPMeds','diabetes','TenYearCHD']]\n",
    "data.head()"
   ]
  },
  {
   "cell_type": "markdown",
   "metadata": {
    "papermill": {
     "duration": 0.148626,
     "end_time": "2020-09-26T11:53:17.503416",
     "exception": false,
     "start_time": "2020-09-26T11:53:17.354790",
     "status": "completed"
    },
    "tags": []
   },
   "source": [
    "# Feature Splitting and Scaling"
   ]
  },
  {
   "cell_type": "code",
   "execution_count": null,
   "metadata": {
    "execution": {
     "iopub.execute_input": "2020-09-26T11:53:17.813647Z",
     "iopub.status.busy": "2020-09-26T11:53:17.812534Z",
     "iopub.status.idle": "2020-09-26T11:53:17.817762Z",
     "shell.execute_reply": "2020-09-26T11:53:17.816918Z"
    },
    "papermill": {
     "duration": 0.165426,
     "end_time": "2020-09-26T11:53:17.817914",
     "exception": false,
     "start_time": "2020-09-26T11:53:17.652488",
     "status": "completed"
    },
    "tags": []
   },
   "outputs": [],
   "source": [
    "y = data['TenYearCHD']\n",
    "X = data.drop(['TenYearCHD'], axis=1)\n",
    "train_x, test_x, train_y, test_y = train_test_split(X, y, test_size=0.4, random_state=1)"
   ]
  },
  {
   "cell_type": "code",
   "execution_count": null,
   "metadata": {
    "execution": {
     "iopub.execute_input": "2020-09-26T11:53:18.426794Z",
     "iopub.status.busy": "2020-09-26T11:53:18.426026Z",
     "iopub.status.idle": "2020-09-26T11:53:18.435176Z",
     "shell.execute_reply": "2020-09-26T11:53:18.434470Z"
    },
    "papermill": {
     "duration": 0.165631,
     "end_time": "2020-09-26T11:53:18.435304",
     "exception": false,
     "start_time": "2020-09-26T11:53:18.269673",
     "status": "completed"
    },
    "tags": []
   },
   "outputs": [],
   "source": [
    "scaler = MinMaxScaler()\n",
    "train_x = scaler.fit_transform(train_x)\n",
    "test_x = scaler.transform(test_x)"
   ]
  },
  {
   "cell_type": "markdown",
   "metadata": {
    "papermill": {
     "duration": 0.148688,
     "end_time": "2020-09-26T11:53:18.732628",
     "exception": false,
     "start_time": "2020-09-26T11:53:18.583940",
     "status": "completed"
    },
    "tags": []
   },
   "source": [
    "# Predictive Modeling"
   ]
  },
  {
   "cell_type": "markdown",
   "metadata": {
    "papermill": {
     "duration": 0.149465,
     "end_time": "2020-09-26T11:53:19.032245",
     "exception": false,
     "start_time": "2020-09-26T11:53:18.882780",
     "status": "completed"
    },
    "tags": []
   },
   "source": [
    "We use the following different machine learning models for the dataset:\n",
    "\n",
    "1. Logistic Regressor\n",
    "2. K-Nearest Neighbour Classifier\n",
    "3. Random Forest Classifier\n",
    "4. Decision Tree Classifier\n",
    "5. Gradient Boosting Classifier"
   ]
  },
  {
   "cell_type": "code",
   "execution_count": null,
   "metadata": {
    "execution": {
     "iopub.execute_input": "2020-09-26T11:53:19.340651Z",
     "iopub.status.busy": "2020-09-26T11:53:19.339696Z",
     "iopub.status.idle": "2020-09-26T11:53:19.405231Z",
     "shell.execute_reply": "2020-09-26T11:53:19.405915Z"
    },
    "papermill": {
     "duration": 0.22405,
     "end_time": "2020-09-26T11:53:19.406109",
     "exception": false,
     "start_time": "2020-09-26T11:53:19.182059",
     "status": "completed"
    },
    "tags": []
   },
   "outputs": [],
   "source": [
    "m1 = 'LogisticRegression'\n",
    "lr = LogisticRegression(random_state=1, max_iter=1000)\n",
    "model = lr.fit(train_x, train_y)\n",
    "lr_predict = lr.predict(test_x)\n",
    "lr_conf_matrix = confusion_matrix(test_y, lr_predict)\n",
    "lr_acc_score = accuracy_score(test_y, lr_predict)\n",
    "print(\"confussion matrix\")\n",
    "print(lr_conf_matrix)\n",
    "print(\"\\n\")\n",
    "print(\"Accuracy of Logistic Regression:\",lr_acc_score*100,'\\n')\n",
    "print(classification_report(test_y,lr_predict))"
   ]
  },
  {
   "cell_type": "code",
   "execution_count": null,
   "metadata": {
    "execution": {
     "iopub.execute_input": "2020-09-26T11:53:19.720377Z",
     "iopub.status.busy": "2020-09-26T11:53:19.719576Z",
     "iopub.status.idle": "2020-09-26T11:53:19.918802Z",
     "shell.execute_reply": "2020-09-26T11:53:19.919446Z"
    },
    "papermill": {
     "duration": 0.360115,
     "end_time": "2020-09-26T11:53:19.919642",
     "exception": false,
     "start_time": "2020-09-26T11:53:19.559527",
     "status": "completed"
    },
    "tags": []
   },
   "outputs": [],
   "source": [
    "m2 = 'KNeighborsClassifier'\n",
    "knn = KNeighborsClassifier(n_neighbors=1)\n",
    "model = knn.fit(train_x, train_y)\n",
    "knn_predict = knn.predict(test_x)\n",
    "knn_conf_matrix = confusion_matrix(test_y, knn_predict)\n",
    "knn_acc_score = accuracy_score(test_y, knn_predict)\n",
    "print(\"confussion matrix\")\n",
    "print(knn_conf_matrix)\n",
    "print(\"\\n\")\n",
    "print(\"Accuracy of k-NN Classification:\",knn_acc_score*100,'\\n')\n",
    "print(classification_report(test_y, knn_predict))"
   ]
  },
  {
   "cell_type": "code",
   "execution_count": null,
   "metadata": {
    "execution": {
     "iopub.execute_input": "2020-09-26T11:53:20.236787Z",
     "iopub.status.busy": "2020-09-26T11:53:20.235989Z",
     "iopub.status.idle": "2020-09-26T11:53:21.653327Z",
     "shell.execute_reply": "2020-09-26T11:53:21.652331Z"
    },
    "papermill": {
     "duration": 1.581086,
     "end_time": "2020-09-26T11:53:21.653511",
     "exception": false,
     "start_time": "2020-09-26T11:53:20.072425",
     "status": "completed"
    },
    "tags": []
   },
   "outputs": [],
   "source": [
    "m3 = 'Random Forest Classfier'\n",
    "rf = RandomForestClassifier(n_estimators=200, random_state=0,max_depth=12)\n",
    "rf.fit(train_x,train_y)\n",
    "rf_predicted = rf.predict(test_x)\n",
    "rf_conf_matrix = confusion_matrix(test_y, rf_predicted)\n",
    "rf_acc_score = accuracy_score(test_y, rf_predicted)\n",
    "print(\"confussion matrix\")\n",
    "print(rf_conf_matrix)\n",
    "print(\"\\n\")\n",
    "print(\"Accuracy of Random Forest:\",rf_acc_score*100,'\\n')\n",
    "print(classification_report(test_y,rf_predicted))"
   ]
  },
  {
   "cell_type": "code",
   "execution_count": null,
   "metadata": {
    "execution": {
     "iopub.execute_input": "2020-09-26T11:53:21.979509Z",
     "iopub.status.busy": "2020-09-26T11:53:21.978750Z",
     "iopub.status.idle": "2020-09-26T11:53:22.028112Z",
     "shell.execute_reply": "2020-09-26T11:53:22.027272Z"
    },
    "papermill": {
     "duration": 0.221593,
     "end_time": "2020-09-26T11:53:22.028271",
     "exception": false,
     "start_time": "2020-09-26T11:53:21.806678",
     "status": "completed"
    },
    "tags": []
   },
   "outputs": [],
   "source": [
    "m4 = 'DecisionTreeClassifier'\n",
    "dt = DecisionTreeClassifier(criterion = 'entropy',random_state=0,max_depth = 30)\n",
    "dt.fit(train_x,train_y)\n",
    "dt_predicted = dt.predict(test_x)\n",
    "dt_conf_matrix = confusion_matrix(test_y, dt_predicted)\n",
    "dt_acc_score = accuracy_score(test_y, dt_predicted)\n",
    "print(\"confussion matrix\")\n",
    "print(dt_conf_matrix)\n",
    "print(\"\\n\")\n",
    "print(\"Accuracy of DecisionTreeClassifier:\",dt_acc_score*100,'\\n')\n",
    "print(classification_report(test_y,dt_predicted))"
   ]
  },
  {
   "cell_type": "code",
   "execution_count": null,
   "metadata": {
    "execution": {
     "iopub.execute_input": "2020-09-26T11:53:22.340719Z",
     "iopub.status.busy": "2020-09-26T11:53:22.339451Z",
     "iopub.status.idle": "2020-09-26T11:53:22.903777Z",
     "shell.execute_reply": "2020-09-26T11:53:22.902712Z"
    },
    "papermill": {
     "duration": 0.723521,
     "end_time": "2020-09-26T11:53:22.903944",
     "exception": false,
     "start_time": "2020-09-26T11:53:22.180423",
     "status": "completed"
    },
    "tags": []
   },
   "outputs": [],
   "source": [
    "m5 = 'Gradient Boosting Classifier'\n",
    "gvc =  GradientBoostingClassifier()\n",
    "gvc.fit(train_x,train_y)\n",
    "gvc_predicted = gvc.predict(test_x)\n",
    "gvc_conf_matrix = confusion_matrix(test_y, gvc_predicted)\n",
    "gvc_acc_score = accuracy_score(test_y, gvc_predicted)\n",
    "print(\"confussion matrix\")\n",
    "print(gvc_conf_matrix)\n",
    "print(\"\\n\")\n",
    "print(\"Accuracy of Gradient Boosting Classifier:\",gvc_acc_score*100,'\\n')\n",
    "print(classification_report(test_y,gvc_predicted))"
   ]
  },
  {
   "cell_type": "markdown",
   "metadata": {
    "papermill": {
     "duration": 0.156111,
     "end_time": "2020-09-26T11:53:23.214356",
     "exception": false,
     "start_time": "2020-09-26T11:53:23.058245",
     "status": "completed"
    },
    "tags": []
   },
   "source": [
    "## Hyperparameter Tuning for best Classifier\n",
    "#### Using Randomized Search Cross Validation"
   ]
  },
  {
   "cell_type": "markdown",
   "metadata": {
    "papermill": {
     "duration": 0.154311,
     "end_time": "2020-09-26T11:53:23.524016",
     "exception": false,
     "start_time": "2020-09-26T11:53:23.369705",
     "status": "completed"
    },
    "tags": []
   },
   "source": [
    "### Random Forest Classifier"
   ]
  },
  {
   "cell_type": "code",
   "execution_count": null,
   "metadata": {
    "execution": {
     "iopub.execute_input": "2020-09-26T11:53:23.848102Z",
     "iopub.status.busy": "2020-09-26T11:53:23.847087Z",
     "iopub.status.idle": "2020-09-26T11:53:23.851074Z",
     "shell.execute_reply": "2020-09-26T11:53:23.851825Z"
    },
    "papermill": {
     "duration": 0.171988,
     "end_time": "2020-09-26T11:53:23.852005",
     "exception": false,
     "start_time": "2020-09-26T11:53:23.680017",
     "status": "completed"
    },
    "tags": []
   },
   "outputs": [],
   "source": [
    "# Number of trees in random forest\n",
    "n_estimators = [int(x) for x in np.linspace(start = 200, stop = 2000, num = 10)]\n",
    "\n",
    "# Number of features to consider at every split\n",
    "max_features = ['auto', 'sqrt']\n",
    "\n",
    "# Maximum number of levels in tree\n",
    "max_depth = [int(x) for x in np.linspace(10, 110, num = 11)]\n",
    "max_depth.append(None)\n",
    "\n",
    "# Minimum number of samples required to split a node\n",
    "min_samples_split = [2, 5, 10]\n",
    "\n",
    "# Minimum number of samples required at each leaf node\n",
    "min_samples_leaf = [1, 2, 4]\n",
    "\n",
    "# Method of selecting samples for training each tree\n",
    "bootstrap = [True, False]\n",
    "\n",
    "# Create the random grid\n",
    "random_grid = {'n_estimators': n_estimators,\n",
    "               'max_features': max_features,\n",
    "               'max_depth': max_depth,\n",
    "               'min_samples_split': min_samples_split,\n",
    "               'min_samples_leaf': min_samples_leaf,\n",
    "               'bootstrap': bootstrap}\n",
    "print(random_grid)"
   ]
  },
  {
   "cell_type": "code",
   "execution_count": null,
   "metadata": {
    "execution": {
     "iopub.execute_input": "2020-09-26T11:53:24.173388Z",
     "iopub.status.busy": "2020-09-26T11:53:24.172520Z",
     "iopub.status.idle": "2020-09-26T12:05:38.076218Z",
     "shell.execute_reply": "2020-09-26T12:05:38.075537Z"
    },
    "papermill": {
     "duration": 734.067456,
     "end_time": "2020-09-26T12:05:38.076350",
     "exception": false,
     "start_time": "2020-09-26T11:53:24.008894",
     "status": "completed"
    },
    "tags": []
   },
   "outputs": [],
   "source": [
    "# Use the random grid to search for best hyperparameters\n",
    "# First create the base model to tune\n",
    "rf = RandomForestClassifier()\n",
    "\n",
    "# Random search of parameters, using 3 fold cross validation, \n",
    "# search across 100 different combinations, and use all available cores\n",
    "rf_random = RandomizedSearchCV(estimator = rf, \n",
    "                               param_distributions = random_grid, \n",
    "                               n_iter = 100, \n",
    "                               cv = 3, \n",
    "                               verbose=2, \n",
    "                               random_state=7, \n",
    "                               n_jobs = -1)\n",
    "\n",
    "# Fit the random search model\n",
    "rf_random.fit(train_x,train_y)"
   ]
  },
  {
   "cell_type": "code",
   "execution_count": null,
   "metadata": {
    "execution": {
     "iopub.execute_input": "2020-09-26T12:05:38.402347Z",
     "iopub.status.busy": "2020-09-26T12:05:38.401469Z",
     "iopub.status.idle": "2020-09-26T12:05:42.646203Z",
     "shell.execute_reply": "2020-09-26T12:05:42.645553Z"
    },
    "papermill": {
     "duration": 4.412129,
     "end_time": "2020-09-26T12:05:42.646338",
     "exception": false,
     "start_time": "2020-09-26T12:05:38.234209",
     "status": "completed"
    },
    "tags": []
   },
   "outputs": [],
   "source": [
    "rf_hyper = rf_random.best_estimator_\n",
    "rf_hyper.fit(train_x,train_y)\n",
    "print(\"Accuracy on training set is : {}\".format(rf_hyper.score(train_x,train_y)))\n",
    "print(\"Accuracy on validation set is : {}\".format(rf_hyper.score(test_x, test_y)))\n",
    "rf_predicted = rf_hyper.predict(test_x)\n",
    "rf_acc_score = accuracy_score(test_y, rf_predicted)\n",
    "print(\"Accuracy of Hyper-tuned Random Forest Classifier:\",rf_acc_score*100,'\\n')\n",
    "print(classification_report(test_y, rf_predicted))"
   ]
  },
  {
   "cell_type": "markdown",
   "metadata": {
    "papermill": {
     "duration": 0.159386,
     "end_time": "2020-09-26T12:05:42.964828",
     "exception": false,
     "start_time": "2020-09-26T12:05:42.805442",
     "status": "completed"
    },
    "tags": []
   },
   "source": [
    "### Gradient Boosting Classifier"
   ]
  },
  {
   "cell_type": "code",
   "execution_count": null,
   "metadata": {
    "execution": {
     "iopub.execute_input": "2020-09-26T12:05:43.303110Z",
     "iopub.status.busy": "2020-09-26T12:05:43.301809Z",
     "iopub.status.idle": "2020-09-26T12:05:43.306797Z",
     "shell.execute_reply": "2020-09-26T12:05:43.306167Z"
    },
    "papermill": {
     "duration": 0.176755,
     "end_time": "2020-09-26T12:05:43.306930",
     "exception": false,
     "start_time": "2020-09-26T12:05:43.130175",
     "status": "completed"
    },
    "tags": []
   },
   "outputs": [],
   "source": [
    "#Number of trees\n",
    "n_estimators = [int(i) for i in np.linspace(start=100,stop=1000,num=10)]\n",
    "#Number of features to consider at every split\n",
    "max_features = ['auto','sqrt']\n",
    "#Maximum number of levels in tree\n",
    "max_depth = [int(i) for i in np.linspace(10, 100, num=10)]\n",
    "max_depth.append(None)\n",
    "#Minimum number of samples required to split a node\n",
    "min_samples_split=[2,5,10]\n",
    "#Minimum number of samples required at each leaf node\n",
    "min_samples_leaf = [1,2,4]\n",
    "\n",
    "#Create the random grid\n",
    "random_grid = {'n_estimators': n_estimators,\n",
    "               'max_features': max_features,\n",
    "               'max_depth': max_depth,\n",
    "               'min_samples_split': min_samples_split,\n",
    "               'min_samples_leaf': min_samples_leaf}"
   ]
  },
  {
   "cell_type": "code",
   "execution_count": null,
   "metadata": {
    "execution": {
     "iopub.execute_input": "2020-09-26T12:05:43.641120Z",
     "iopub.status.busy": "2020-09-26T12:05:43.639993Z",
     "iopub.status.idle": "2020-09-26T12:46:05.099283Z",
     "shell.execute_reply": "2020-09-26T12:46:05.099983Z"
    },
    "papermill": {
     "duration": 2421.634117,
     "end_time": "2020-09-26T12:46:05.100192",
     "exception": false,
     "start_time": "2020-09-26T12:05:43.466075",
     "status": "completed"
    },
    "tags": []
   },
   "outputs": [],
   "source": [
    "gb=GradientBoostingClassifier(random_state=0)\n",
    "#Random search of parameters, using 3 fold cross validation, \n",
    "#search across 100 different combinations\n",
    "gb_random = RandomizedSearchCV(estimator=gb, param_distributions=random_grid,\n",
    "                              n_iter=100, scoring='f1', \n",
    "                              cv=3, verbose=2, random_state=0, n_jobs=-1,\n",
    "                              return_train_score=True)\n",
    "\n",
    "# Fit the random search model\n",
    "gb_random.fit(train_x,train_y)"
   ]
  },
  {
   "cell_type": "code",
   "execution_count": null,
   "metadata": {
    "execution": {
     "iopub.execute_input": "2020-09-26T12:46:05.447465Z",
     "iopub.status.busy": "2020-09-26T12:46:05.446628Z",
     "iopub.status.idle": "2020-09-26T12:46:59.022697Z",
     "shell.execute_reply": "2020-09-26T12:46:59.021721Z"
    },
    "papermill": {
     "duration": 53.752586,
     "end_time": "2020-09-26T12:46:59.022896",
     "exception": false,
     "start_time": "2020-09-26T12:46:05.270310",
     "status": "completed"
    },
    "tags": []
   },
   "outputs": [],
   "source": [
    "gb_hyper = gb_random.best_estimator_\n",
    "gb_hyper.fit(train_x,train_y)\n",
    "print(\"Accuracy on training set is : {}\".format(gb_hyper.score(train_x,train_y)))\n",
    "print(\"Accuracy on validation set is : {}\".format(gb_hyper.score(test_x, test_y)))\n",
    "gbc_predicted = gb_hyper.predict(test_x)\n",
    "gbc_acc_score = accuracy_score(test_y, gbc_predicted)\n",
    "print(\"Accuracy of Hyper-tuned Gradient Boosting Classifier:\",gbc_acc_score*100,'\\n')\n",
    "print(classification_report(test_y, gbc_predicted))"
   ]
  },
  {
   "cell_type": "code",
   "execution_count": null,
   "metadata": {
    "execution": {
     "iopub.execute_input": "2020-09-26T12:46:59.366572Z",
     "iopub.status.busy": "2020-09-26T12:46:59.365793Z",
     "iopub.status.idle": "2020-09-26T12:46:59.810505Z",
     "shell.execute_reply": "2020-09-26T12:46:59.809858Z"
    },
    "papermill": {
     "duration": 0.622869,
     "end_time": "2020-09-26T12:46:59.810653",
     "exception": false,
     "start_time": "2020-09-26T12:46:59.187784",
     "status": "completed"
    },
    "tags": []
   },
   "outputs": [],
   "source": [
    "lr_false_positive_rate,lr_true_positive_rate,lr_threshold = roc_curve(test_y,lr_predict)\n",
    "knn_false_positive_rate,knn_true_positive_rate,knn_threshold = roc_curve(test_y,knn_predict)\n",
    "rf_false_positive_rate,rf_true_positive_rate,rf_threshold = roc_curve(test_y,rf_predicted)                                                             \n",
    "dt_false_positive_rate,dt_true_positive_rate,dt_threshold = roc_curve(test_y,dt_predicted)\n",
    "gbc_false_positive_rate,gbc_true_positive_rate,gbc_threshold = roc_curve(test_y,gbc_predicted)\n",
    "\n",
    "\n",
    "sns.set_style('whitegrid')\n",
    "plt.figure(figsize=(15,8), facecolor='w')\n",
    "plt.title('Reciever Operating Characterstic Curve')\n",
    "plt.plot(lr_false_positive_rate,lr_true_positive_rate,label='Logistic Regression')\n",
    "plt.plot(knn_false_positive_rate,knn_true_positive_rate,label='K-Nearest Neighbor')\n",
    "plt.plot(rf_false_positive_rate,rf_true_positive_rate,label='Random Forest')\n",
    "plt.plot(dt_false_positive_rate,dt_true_positive_rate,label='Desion Tree')\n",
    "plt.plot(gbc_false_positive_rate,gbc_true_positive_rate,label='Gradient Boosting Classifier')\n",
    "plt.plot([0,1],ls='--')\n",
    "plt.plot([0,0],[1,0],c='.5')\n",
    "plt.plot([1,1],c='.5')\n",
    "plt.ylabel('True positive rate')\n",
    "plt.xlabel('False positive rate')\n",
    "plt.legend()\n",
    "plt.show()"
   ]
  },
  {
   "cell_type": "markdown",
   "metadata": {
    "papermill": {
     "duration": 0.16699,
     "end_time": "2020-09-26T12:47:00.147063",
     "exception": false,
     "start_time": "2020-09-26T12:46:59.980073",
     "status": "completed"
    },
    "tags": []
   },
   "source": [
    "# **Model Evaluation**"
   ]
  },
  {
   "cell_type": "code",
   "execution_count": null,
   "metadata": {
    "execution": {
     "iopub.execute_input": "2020-09-26T12:47:00.493495Z",
     "iopub.status.busy": "2020-09-26T12:47:00.492399Z",
     "iopub.status.idle": "2020-09-26T12:47:00.497515Z",
     "shell.execute_reply": "2020-09-26T12:47:00.496832Z"
    },
    "papermill": {
     "duration": 0.184521,
     "end_time": "2020-09-26T12:47:00.497659",
     "exception": false,
     "start_time": "2020-09-26T12:47:00.313138",
     "status": "completed"
    },
    "tags": []
   },
   "outputs": [],
   "source": [
    "model_ev = pd.DataFrame({'Model': ['Logistic Regression','K-Nearest Neighbour','Random Forest',\n",
    "                                   'Decision Tree','Gradient Boosting'], 'Accuracy': [lr_acc_score*100, knn_acc_score*100, \n",
    "                                                                                      rf_acc_score*100, dt_acc_score*100,gbc_acc_score*100]})\n",
    "model_ev"
   ]
  },
  {
   "cell_type": "code",
   "execution_count": null,
   "metadata": {
    "execution": {
     "iopub.execute_input": "2020-09-26T12:47:00.846013Z",
     "iopub.status.busy": "2020-09-26T12:47:00.843027Z",
     "iopub.status.idle": "2020-09-26T12:47:01.073101Z",
     "shell.execute_reply": "2020-09-26T12:47:01.072424Z"
    },
    "papermill": {
     "duration": 0.41092,
     "end_time": "2020-09-26T12:47:01.073230",
     "exception": false,
     "start_time": "2020-09-26T12:47:00.662310",
     "status": "completed"
    },
    "tags": []
   },
   "outputs": [],
   "source": [
    "colors = ['red','green','blue','gold','silver']\n",
    "plt.figure(figsize=(15,8), facecolor='w')\n",
    "plt.title(\"Barplot Representing Accuracy of different models\")\n",
    "plt.ylabel(\"Accuracy %\")\n",
    "plt.xlabel(\"Models\")\n",
    "plt.bar(model_ev['Model'],model_ev['Accuracy'],color = colors)\n",
    "plt.show()"
   ]
  },
  {
   "cell_type": "markdown",
   "metadata": {
    "papermill": {
     "duration": 0.166508,
     "end_time": "2020-09-26T12:47:01.405656",
     "exception": false,
     "start_time": "2020-09-26T12:47:01.239148",
     "status": "completed"
    },
    "tags": []
   },
   "source": [
    "# Ensembling\n",
    "\n",
    "In order to increase the accuracy of the model we use ensembling. Here we use stacking technique. We stack the 4 highest accuracy yielding models to create an ensembled model."
   ]
  },
  {
   "cell_type": "code",
   "execution_count": null,
   "metadata": {
    "execution": {
     "iopub.execute_input": "2020-09-26T12:47:01.754691Z",
     "iopub.status.busy": "2020-09-26T12:47:01.753755Z",
     "iopub.status.idle": "2020-09-26T12:49:35.770805Z",
     "shell.execute_reply": "2020-09-26T12:49:35.771753Z"
    },
    "papermill": {
     "duration": 154.196332,
     "end_time": "2020-09-26T12:49:35.771991",
     "exception": false,
     "start_time": "2020-09-26T12:47:01.575659",
     "status": "completed"
    },
    "tags": []
   },
   "outputs": [],
   "source": [
    "scv=StackingCVClassifier(classifiers=[rf_hyper, gb_hyper, knn, dt], meta_classifier= rf)\n",
    "train_x, test_x, train_y, test_y = train_test_split(X, y, test_size=0.2, random_state=1)\n",
    "scv.fit(train_x.values,train_y.values)\n",
    "scv_predicted = scv.predict(test_x)\n",
    "scv_conf_matrix = confusion_matrix(test_y, scv_predicted)\n",
    "scv_acc_score = accuracy_score(test_y, scv_predicted)\n",
    "print(\"confussion matrix\")\n",
    "print(scv_conf_matrix)\n",
    "print(\"\\n\")\n",
    "print(\"Accuracy of StackingCVClassifier:\",scv_acc_score*100,'\\n')\n",
    "print(classification_report(test_y,scv_predicted))"
   ]
  },
  {
   "cell_type": "markdown",
   "metadata": {
    "papermill": {
     "duration": 0.170429,
     "end_time": "2020-09-26T12:49:36.109850",
     "exception": false,
     "start_time": "2020-09-26T12:49:35.939421",
     "status": "completed"
    },
    "tags": []
   },
   "source": [
    "# Conclusion"
   ]
  },
  {
   "cell_type": "code",
   "execution_count": null,
   "metadata": {
    "execution": {
     "iopub.execute_input": "2020-09-26T12:49:36.467902Z",
     "iopub.status.busy": "2020-09-26T12:49:36.466884Z",
     "iopub.status.idle": "2020-09-26T12:49:36.471426Z",
     "shell.execute_reply": "2020-09-26T12:49:36.470730Z"
    },
    "papermill": {
     "duration": 0.189494,
     "end_time": "2020-09-26T12:49:36.471551",
     "exception": false,
     "start_time": "2020-09-26T12:49:36.282057",
     "status": "completed"
    },
    "tags": []
   },
   "outputs": [],
   "source": [
    "model_ev = model_ev.append({\"Model\":\"Stacking Ensemble\", \"Accuracy\":scv_acc_score*100}, ignore_index=True)\n",
    "model_ev"
   ]
  }
 ],
 "metadata": {
  "kernelspec": {
   "display_name": "Python 3 (ipykernel)",
   "language": "python",
   "name": "python3"
  },
  "language_info": {
   "codemirror_mode": {
    "name": "ipython",
    "version": 3
   },
   "file_extension": ".py",
   "mimetype": "text/x-python",
   "name": "python",
   "nbconvert_exporter": "python",
   "pygments_lexer": "ipython3",
   "version": "3.9.7"
  },
  "papermill": {
   "duration": 3428.709467,
   "end_time": "2020-09-26T12:49:37.091844",
   "environment_variables": {},
   "exception": null,
   "input_path": "__notebook__.ipynb",
   "output_path": "__notebook__.ipynb",
   "parameters": {},
   "start_time": "2020-09-26T11:52:28.382377",
   "version": "2.1.0"
  }
 },
 "nbformat": 4,
 "nbformat_minor": 4
}
